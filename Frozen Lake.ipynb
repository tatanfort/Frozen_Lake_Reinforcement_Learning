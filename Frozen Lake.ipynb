{
 "cells": [
  {
   "cell_type": "markdown",
   "metadata": {},
   "source": [
    "____________________________________\n",
    "\n",
    "<div align=\"center\">\n",
    "  \n",
    "# Reinforcement learning :\n",
    "# How to solve the Frozen Lake problem with Q-Learning  <div align=\"center\"> \n",
    "_____________________________________"
   ]
  },
  {
   "cell_type": "code",
   "execution_count": 20,
   "metadata": {},
   "outputs": [],
   "source": [
    "import gym\n",
    "import pandas as pd\n",
    "import random\n",
    "import numpy as np\n",
    "import matplotlib.pyplot as plt"
   ]
  },
  {
   "cell_type": "code",
   "execution_count": 2,
   "metadata": {},
   "outputs": [],
   "source": [
    "env = gym.make('FrozenLake8x8-v0').env"
   ]
  },
  {
   "cell_type": "code",
   "execution_count": 3,
   "metadata": {},
   "outputs": [
    {
     "name": "stdout",
     "output_type": "stream",
     "text": [
      "\n",
      "\u001b[41mS\u001b[0mFFFFFFF\n",
      "FFFFFFFF\n",
      "FFFHFFFF\n",
      "FFFFFHFF\n",
      "FFFHFFFF\n",
      "FHHFFFHF\n",
      "FHFFHFHF\n",
      "FFFHFFFG\n"
     ]
    }
   ],
   "source": [
    "env.render()"
   ]
  },
  {
   "cell_type": "code",
   "execution_count": 4,
   "metadata": {},
   "outputs": [
    {
     "data": {
      "text/plain": [
       "{0: [(0.3333333333333333, 1, 0.0, False),\n",
       "  (0.3333333333333333, 8, 0.0, False),\n",
       "  (0.3333333333333333, 17, 0.0, False)],\n",
       " 1: [(0.3333333333333333, 8, 0.0, False),\n",
       "  (0.3333333333333333, 17, 0.0, False),\n",
       "  (0.3333333333333333, 10, 0.0, False)],\n",
       " 2: [(0.3333333333333333, 17, 0.0, False),\n",
       "  (0.3333333333333333, 10, 0.0, False),\n",
       "  (0.3333333333333333, 1, 0.0, False)],\n",
       " 3: [(0.3333333333333333, 10, 0.0, False),\n",
       "  (0.3333333333333333, 1, 0.0, False),\n",
       "  (0.3333333333333333, 8, 0.0, False)]}"
      ]
     },
     "execution_count": 4,
     "metadata": {},
     "output_type": "execute_result"
    }
   ],
   "source": [
    "env.P[9] "
   ]
  },
  {
   "cell_type": "markdown",
   "metadata": {},
   "source": [
    "The dictionnary env.P has the following structure: {action : list of states reachable with this action at this state (probability, next state, reward, done)"
   ]
  },
  {
   "cell_type": "code",
   "execution_count": 6,
   "metadata": {},
   "outputs": [
    {
     "data": {
      "text/plain": [
       "0"
      ]
     },
     "execution_count": 6,
     "metadata": {},
     "output_type": "execute_result"
    }
   ],
   "source": [
    "env.s #the agent is at the initial position"
   ]
  },
  {
   "cell_type": "markdown",
   "metadata": {},
   "source": [
    "### Random strategy:\n",
    "First let's try a random strategy and see how it performs:"
   ]
  },
  {
   "cell_type": "code",
   "execution_count": 101,
   "metadata": {},
   "outputs": [
    {
     "name": "stdout",
     "output_type": "stream",
     "text": [
      "For a total of  1000  games played, the agent moving randomly played  31428  moves. \n",
      "An average of  31.428  moves per game.\n",
      "And an average reward per game of : 0.001\n"
     ]
    }
   ],
   "source": [
    "env.s=0\n",
    "nb_parties=1000\n",
    "reward_total = 0\n",
    "frames = []\n",
    "for i in range(nb_parties):\n",
    "    env.s=0\n",
    "    a=(0, 0.0, False, {'prob': 0.3333333333333333})\n",
    "    while not a[2]:\n",
    "        action= env.action_space.sample()\n",
    "        a=env.step(action)\n",
    "        reward_total+=a[1]\n",
    "            # Put each rendered frame into dict for animation\n",
    "        frames.append({'frame': env.render(mode='ansi'),'state': a[0],'action': action,'reward': a[1]})\n",
    "        \n",
    "print('For a total of ',nb_parties,' games played, the agent moving randomly played ',len(frames),\n",
    "      ' moves. \\nAn average of ',len(frames)/nb_parties,\n",
    "      ' moves per game.\\nAnd an average reward per game of :',reward_total/nb_parties)\n"
   ]
  },
  {
   "cell_type": "code",
   "execution_count": 16,
   "metadata": {},
   "outputs": [
    {
     "name": "stdout",
     "output_type": "stream",
     "text": [
      "  (Down)\n",
      "SFFFFFFF\n",
      "FFFFFFFF\n",
      "FFF\u001b[41mH\u001b[0mFFFF\n",
      "FFFFFHFF\n",
      "FFFHFFFF\n",
      "FHHFFFHF\n",
      "FHFFHFHF\n",
      "FFFHFFFG\n",
      "Timestep:  {31}\n",
      "State:  {19}\n",
      "Action:  {1}\n",
      "Reward:  {0.0}\n"
     ]
    }
   ],
   "source": [
    "from IPython.display import clear_output\n",
    "from time import sleep\n",
    "\n",
    "def print_frames(frames):\n",
    "    for i, frame in enumerate(frames):\n",
    "        clear_output(wait=True)\n",
    "        env.s=frames[i]['state']\n",
    "        env.render()\n",
    "        print(\"Timestep: \",{i + 1})\n",
    "        print(\"State: \",{frame['state']})\n",
    "        print(\"Action: \",{frame['action']})\n",
    "        print(\"Reward: \",{frame['reward']})\n",
    "        sleep(.1)\n",
    "        \n",
    "print_frames(frames)"
   ]
  },
  {
   "cell_type": "markdown",
   "metadata": {},
   "source": [
    "As we might expected, a random strategy is not really efficient. The agent ends in a hole most of the games. \n",
    "<br> __Let's start learning!__ "
   ]
  },
  {
   "cell_type": "markdown",
   "metadata": {},
   "source": [
    "### Q-learning"
   ]
  },
  {
   "cell_type": "code",
   "execution_count": 17,
   "metadata": {},
   "outputs": [],
   "source": [
    "#creation of the Q-table\n",
    "Q_table=pd.DataFrame([[0]*env.action_space.n]*env.observation_space.n)\n",
    "Q_table=Q_table.rename_axis('state')"
   ]
  },
  {
   "cell_type": "code",
   "execution_count": 9,
   "metadata": {
    "scrolled": true
   },
   "outputs": [],
   "source": [
    "def sum_segments(liste,len_segment):\n",
    "    L=[]\n",
    "    for i in range(len(liste)//len_segment):\n",
    "        L.append(sum(liste[len_segment*i:len_segment*(i+1)]))\n",
    "    return L"
   ]
  },
  {
   "cell_type": "code",
   "execution_count": 237,
   "metadata": {
    "scrolled": true
   },
   "outputs": [
    {
     "name": "stdout",
     "output_type": "stream",
     "text": [
      "Episode: 29900\n",
      "win\n",
      "win\n",
      "win\n",
      "win\n",
      "win\n",
      "win\n",
      "win\n",
      "win\n",
      "win\n",
      "win\n"
     ]
    }
   ],
   "source": [
    "# Hyperparameters: on augmente gamma (discount factor) et alpha (learning rate, because the learning seems too slow)\n",
    "alpha = 0.8\n",
    "gamma = 0.9\n",
    "#epsilon = 0.1 #10% of exploration\n",
    "\n",
    "#frames = []\n",
    "\n",
    "Q_table2=pd.DataFrame([[0]*env.action_space.n]*env.observation_space.n)\n",
    "Q_table2.rename_axis('state')\n",
    "\n",
    "nb_parties=30000\n",
    "#reward_game2=[]\n",
    "for i in range(nb_parties):\n",
    "    env.s=0\n",
    "    state=0\n",
    "    reward = 0\n",
    "    done = False\n",
    "    \n",
    "    while not done:\n",
    "        if random.uniform(0, 1) < epsilon:    #exploration\n",
    "            action = env.action_space.sample() \n",
    "        else:   #exploitation\n",
    "            qmax = Q_table2.iloc[state,np.argmax(Q_table2.iloc[state])] #the maximum value in the Q_table at state state\n",
    "            action = random.choice(np.where(Q_table2.iloc[state]==qmax)[0])     #pick up randomly an action in the list of equal maximum Q-value actions \n",
    "                                                                        #or the max Q-value if there's only one. (othewhise the agent keep taking the first appearing action while there is several max q-value actions)\n",
    "           \n",
    "        a = env.step(action) \n",
    "        \n",
    "        q_s_a = Q_table2.iloc[state, action]\n",
    "        next_max = np.max(Q_table2.iloc[env.s])\n",
    "        \n",
    "        new_q_s_a = (1 - alpha) * q_s_a + alpha * (a[1] + gamma * next_max)\n",
    "        Q_table2.iloc[state, action] = new_q_s_a\n",
    "        reward+=a[1]\n",
    "        if reward:\n",
    "            print('win')\n",
    "        state = env.s\n",
    "        \n",
    "        done=a[2]\n",
    "        \n",
    "        # Put each rendered frame into dict for animation\n",
    "        frames.append({'game':i, 'frame': env.render(mode='ansi'),'state': a[0],'action': action,'reward': a[1]})\n",
    "  \n",
    "        \n",
    "    reward_game2.append(reward)    \n",
    "        \n",
    "    if i % 100 == 0:\n",
    "        clear_output(wait=True)\n",
    "        print(f\"Episode: {i}\")\n"
   ]
  },
  {
   "cell_type": "code",
   "execution_count": 236,
   "metadata": {},
   "outputs": [
    {
     "data": {
      "text/plain": [
       "[<matplotlib.lines.Line2D at 0x1a3a3d2470>]"
      ]
     },
     "execution_count": 236,
     "metadata": {},
     "output_type": "execute_result"
    },
    {
     "data": {
      "image/png": "[encoded data removed]",
      "text/plain": [
       "<matplotlib.figure.Figure at 0x1a767b7128>"
      ]
     },
     "metadata": {
      "needs_background": "light"
     },
     "output_type": "display_data"
    }
   ],
   "source": [
    "import matplotlib.pyplot as plt\n",
    "plt.plot(range(int(len(reward_game2)/2000)),sum_segments(reward_game2,2000))"
   ]
  },
  {
   "cell_type": "markdown",
   "metadata": {},
   "source": [
    "We can notice that the success stagnate around 17%."
   ]
  },
  {
   "cell_type": "code",
   "execution_count": 164,
   "metadata": {
    "scrolled": true
   },
   "outputs": [
    {
     "name": "stdout",
     "output_type": "stream",
     "text": [
      "  (Up)\n",
      "SFFFFFFF\n",
      "FFFFFFFF\n",
      "FFFHFFFF\n",
      "FFFFFHFF\n",
      "\u001b[41mF\u001b[0mFFHFFFF\n",
      "FHHFFFHF\n",
      "FHFFHFHF\n",
      "FFFHFFFG\n",
      "Timestep: 1285\n",
      "State: 32\n",
      "Action: 0\n",
      "Reward: 0.0\n"
     ]
    },
    {
     "ename": "KeyboardInterrupt",
     "evalue": "",
     "output_type": "error",
     "traceback": [
      "\u001b[0;31m---------------------------------------------------------------------------\u001b[0m",
      "\u001b[0;31mKeyboardInterrupt\u001b[0m                         Traceback (most recent call last)",
      "\u001b[0;32m<ipython-input-164-ef5eb1d82475>\u001b[0m in \u001b[0;36m<module>\u001b[0;34m()\u001b[0m\n\u001b[0;32m----> 1\u001b[0;31m \u001b[0mprint_frames\u001b[0m\u001b[0;34m(\u001b[0m\u001b[0mframes\u001b[0m\u001b[0;34m)\u001b[0m\u001b[0;34m\u001b[0m\u001b[0;34m\u001b[0m\u001b[0m\n\u001b[0m",
      "\u001b[0;32m<ipython-input-111-9b3064679d91>\u001b[0m in \u001b[0;36mprint_frames\u001b[0;34m(frames)\u001b[0m\n\u001b[1;32m     12\u001b[0m         \u001b[0mprint\u001b[0m\u001b[0;34m(\u001b[0m\u001b[0;34mf\"Action: {frame['action']}\"\u001b[0m\u001b[0;34m)\u001b[0m\u001b[0;34m\u001b[0m\u001b[0;34m\u001b[0m\u001b[0m\n\u001b[1;32m     13\u001b[0m         \u001b[0mprint\u001b[0m\u001b[0;34m(\u001b[0m\u001b[0;34mf\"Reward: {frame['reward']}\"\u001b[0m\u001b[0;34m)\u001b[0m\u001b[0;34m\u001b[0m\u001b[0;34m\u001b[0m\u001b[0m\n\u001b[0;32m---> 14\u001b[0;31m         \u001b[0msleep\u001b[0m\u001b[0;34m(\u001b[0m\u001b[0;36m.1\u001b[0m\u001b[0;34m)\u001b[0m\u001b[0;34m\u001b[0m\u001b[0;34m\u001b[0m\u001b[0m\n\u001b[0m\u001b[1;32m     15\u001b[0m \u001b[0;34m\u001b[0m\u001b[0m\n\u001b[1;32m     16\u001b[0m \u001b[0mprint_frames\u001b[0m\u001b[0;34m(\u001b[0m\u001b[0mframes\u001b[0m\u001b[0;34m)\u001b[0m\u001b[0;34m\u001b[0m\u001b[0;34m\u001b[0m\u001b[0m\n",
      "\u001b[0;31mKeyboardInterrupt\u001b[0m: "
     ]
    }
   ],
   "source": [
    "print_frames(frames)"
   ]
  },
  {
   "cell_type": "markdown",
   "metadata": {},
   "source": [
    "### Modification of the hyper parameters and progressive decrease of $\\epsilon$ during the training:"
   ]
  },
  {
   "cell_type": "code",
   "execution_count": 25,
   "metadata": {},
   "outputs": [
    {
     "name": "stdout",
     "output_type": "stream",
     "text": [
      "Episode:  149900\n",
      "win\n",
      "win\n",
      "win\n",
      "win\n",
      "win\n",
      "win\n",
      "win\n",
      "win\n",
      "win\n",
      "win\n",
      "win\n",
      "win\n",
      "win\n",
      "win\n",
      "win\n",
      "win\n",
      "win\n",
      "win\n",
      "win\n",
      "win\n",
      "win\n",
      "win\n",
      "win\n",
      "win\n",
      "win\n",
      "win\n",
      "win\n",
      "win\n",
      "win\n",
      "win\n",
      "win\n",
      "win\n",
      "win\n",
      "win\n",
      "win\n",
      "win\n",
      "win\n",
      "win\n",
      "win\n",
      "win\n",
      "win\n",
      "win\n",
      "win\n",
      "win\n"
     ]
    }
   ],
   "source": [
    "# Hyperparameters: We increase gamma (discount factor) et alpha (learning rate, because the learning seems too slow)\n",
    "alpha = 0.8\n",
    "gamma = 0.9\n",
    "\n",
    "#frames = []\n",
    "\n",
    "#Q_table2=pd.DataFrame([[0]*env.action_space.n]*env.observation_space.n)\n",
    "\n",
    "\n",
    "nb_parties=140000\n",
    "#reward_game2=[]\n",
    "for i in range(nb_parties):\n",
    "    #epsilon = 0.02 + 0.05*(nb_parties-i)/nb_parties #7% of exploration at the begining and 2% at the end \n",
    "    epsilon = 0.01 \n",
    "    env.s=0\n",
    "    state=0\n",
    "    reward = 0\n",
    "    done = False\n",
    "    \n",
    "    while not done:\n",
    "        if random.uniform(0, 1) < epsilon:    #exploration\n",
    "            action = env.action_space.sample() \n",
    "        else:   #exploitation\n",
    "            qmax = Q_table2.iloc[state,np.argmax(Q_table2.iloc[state])] #the maximum value in the Q_table at state state\n",
    "            action = random.choice(np.where(Q_table2.iloc[state]==qmax)[0])     #pick up randomly an action in the list of equal maximum Q-value actions \n",
    "                                                                        #or the max Q-value if there's only one. (othewhise the agent keep taking the first appearing action while there is several max q-value actions)\n",
    "           \n",
    "        a = env.step(action) \n",
    "        \n",
    "        q_s_a = Q_table2.iloc[state, action]\n",
    "        next_max = np.max(Q_table2.iloc[env.s])\n",
    "        \n",
    "        new_q_s_a = (1 - alpha) * q_s_a + alpha * (a[1] + gamma * next_max)\n",
    "        Q_table2.iloc[state, action] = new_q_s_a\n",
    "        reward+=a[1]\n",
    "        if reward:\n",
    "            print('win')\n",
    "        state = env.s\n",
    "        \n",
    "        done=a[2]\n",
    "        \n",
    "        # Put each rendered frame into dict for animation\n",
    "        frames.append({'game':i, 'frame': env.render(mode='ansi'),'state': a[0],'action': action,'reward': a[1]})\n",
    "  \n",
    "        \n",
    "    reward_game2.append(reward)    \n",
    "        \n",
    "    if i % 100 == 0:\n",
    "        clear_output(wait=True)\n",
    "        print(\"Episode: \",i+100000)\n",
    "    if i % 1000 ==0:\n",
    "        clear_output(wait=True)\n",
    "        print('total reward on the 1000 last epochs:', sum(reward_game2[-1000:-1]))\n"
   ]
  },
  {
   "cell_type": "code",
   "execution_count": 240,
   "metadata": {},
   "outputs": [
    {
     "name": "stdout",
     "output_type": "stream",
     "text": [
      "total reward on the 1000 last epochs: 169.0\n"
     ]
    }
   ],
   "source": [
    "print('total reward on the 1000 last epochs:', sum(reward_game2[-1000:-1]))"
   ]
  },
  {
   "cell_type": "code",
   "execution_count": 264,
   "metadata": {},
   "outputs": [
    {
     "data": {
      "text/plain": [
       "[<matplotlib.lines.Line2D at 0x1b0d0cb780>]"
      ]
     },
     "execution_count": 264,
     "metadata": {},
     "output_type": "execute_result"
    },
    {
     "data": {
      "image/png": "[encoded data removed]",
      "text/plain": [
       "<matplotlib.figure.Figure at 0x1b0cba4f98>"
      ]
     },
     "metadata": {
      "needs_background": "light"
     },
     "output_type": "display_data"
    }
   ],
   "source": [
    "plt.plot(range(int(len(reward_game2)/2000)),sum_segments(reward_game2,2000))"
   ]
  },
  {
   "cell_type": "markdown",
   "metadata": {},
   "source": [
    "### Learning from scratch with the chosen parameters and a decreasing $\\epsilon$"
   ]
  },
  {
   "cell_type": "code",
   "execution_count": null,
   "metadata": {},
   "outputs": [],
   "source": [
    "alpha = 0.8\n",
    "gamma = 0.9\n",
    "\n",
    "frames = []\n",
    "\n",
    "Q_table2=pd.DataFrame([[0]*env.action_space.n]*env.observation_space.n)\n",
    "\n",
    "\n",
    "nb_parties=50000\n",
    "reward_game2=[]\n",
    "for i in range(nb_parties):\n",
    "    epsilon = 0.01 + 0.06*(nb_parties-i)/nb_parties #7% of exploration at the begining and 2% at the end \n",
    "    env.s=0\n",
    "    state=0\n",
    "    reward = 0\n",
    "    done = False\n",
    "    \n",
    "    while not done:\n",
    "        if random.uniform(0, 1) < epsilon:    #exploration\n",
    "            action = env.action_space.sample() \n",
    "        else:   #exploitation\n",
    "            qmax = Q_table2.iloc[state,np.argmax(Q_table2.iloc[state])] #the maximum value in the Q_table at state state\n",
    "            action = random.choice(np.where(Q_table2.iloc[state]==qmax)[0])     #pick up randomly an action in the list of equal maximum Q-value actions \n",
    "                                                                        #or the max Q-value if there's only one. (othewhise the agent keep taking the first appearing action while there is several max q-value actions)\n",
    "           \n",
    "        a = env.step(action) \n",
    "        \n",
    "        q_s_a = Q_table2.iloc[state, action]\n",
    "        next_max = np.max(Q_table2.iloc[env.s])\n",
    "        \n",
    "        new_q_s_a = (1 - alpha) * q_s_a + alpha * (a[1] + gamma * next_max)\n",
    "        Q_table2.iloc[state, action] = new_q_s_a\n",
    "        reward+=a[1]\n",
    "        if reward:\n",
    "            print('win')\n",
    "        state = env.s\n",
    "        \n",
    "        done=a[2]\n",
    "        \n",
    "        # Put each rendered frame into dict for animation\n",
    "        frames.append({'game':i, 'frame': env.render(mode='ansi'),'state': a[0],'action': action,'reward': a[1]})\n",
    "  \n",
    "        \n",
    "    reward_game2.append(reward)    \n",
    "        \n",
    "    if i % 100 == 0:\n",
    "        clear_output(wait=True)\n",
    "        print(\"Episode: \",i+100000)\n",
    "    if i % 1000 ==0:\n",
    "        clear_output(wait=True)\n",
    "        print('total reward on the 1000 last epochs:', sum(reward_game2[-1000:-1]))\n"
   ]
  },
  {
   "cell_type": "code",
   "execution_count": 26,
   "metadata": {},
   "outputs": [
    {
     "data": {
      "text/plain": [
       "[<matplotlib.lines.Line2D at 0x7fcd147d80f0>]"
      ]
     },
     "execution_count": 26,
     "metadata": {},
     "output_type": "execute_result"
    },
    {
     "data": {
      "image/png": "[encoded data removed]",
      "text/plain": [
       "<Figure size 432x288 with 1 Axes>"
      ]
     },
     "metadata": {
      "needs_background": "light"
     },
     "output_type": "display_data"
    }
   ],
   "source": [
    "plt.plot(range(int(len(reward_game2)/1000)),sum_segments(reward_game2,1000))"
   ]
  },
  {
   "cell_type": "markdown",
   "metadata": {},
   "source": [
    "### Test of the policy : $\\hat{\\Pi}^*$"
   ]
  },
  {
   "cell_type": "code",
   "execution_count": 30,
   "metadata": {},
   "outputs": [
    {
     "name": "stdout",
     "output_type": "stream",
     "text": [
      "Episode:  100\n",
      "win\n",
      "win\n",
      "win\n",
      "win\n",
      "win\n",
      "win\n",
      "win\n",
      "win\n",
      "win\n",
      "win\n",
      "win\n"
     ]
    }
   ],
   "source": [
    "nb_parties=200\n",
    "reward_game_test=[]\n",
    "for i in range(nb_parties):\n",
    "    env.s=0\n",
    "    state=0\n",
    "    reward = 0\n",
    "    done = False\n",
    "    \n",
    "    while not done:\n",
    "    # only exploitation\n",
    "        action = np.argmax(Q_table2.iloc[state])     \n",
    "                                                                    \n",
    "        a = env.step(action) \n",
    "        reward+=a[1]\n",
    "        if reward:\n",
    "            print('win')\n",
    "        state = env.s\n",
    "        \n",
    "        done=a[2]\n",
    "        \n",
    "        # Put each rendered frame into dict for animation\n",
    "        frames.append({'game':i, 'frame': env.render(mode='ansi'),'state': a[0],'action': action,'reward': a[1]})\n",
    "  \n",
    "        \n",
    "    reward_game_test.append(reward)    \n",
    "        \n",
    "    if i % 100 == 0:\n",
    "        clear_output(wait=True)\n",
    "        print(\"Episode: \",i)"
   ]
  }
 ],
 "metadata": {
  "kernelspec": {
   "display_name": "Python 3",
   "language": "python",
   "name": "python3"
  },
  "language_info": {
   "codemirror_mode": {
    "name": "ipython",
    "version": 3
   },
   "file_extension": ".py",
   "mimetype": "text/x-python",
   "name": "python",
   "nbconvert_exporter": "python",
   "pygments_lexer": "ipython3",
   "version": "3.5.3"
  }
 },
 "nbformat": 4,
 "nbformat_minor": 2
}
